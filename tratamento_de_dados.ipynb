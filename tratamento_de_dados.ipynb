{
    "metadata": {
        "kernelspec": {
            "name": "python3",
            "display_name": "Python 3",
            "language": "python"
        },
        "language_info": {
            "name": "python",
            "version": "3.9.9",
            "mimetype": "text/x-python",
            "codemirror_mode": {
                "name": "ipython",
                "version": 3
            },
            "pygments_lexer": "ipython3",
            "nbconvert_exporter": "python",
            "file_extension": ".py"
        }
    },
    "nbformat_minor": 2,
    "nbformat": 4,
    "cells": [
        {
            "cell_type": "markdown",
            "source": [
                "# <span style=\"color: var(--vscode-foreground);\">Instalações bibliotecas</span>"
            ],
            "metadata": {
                "language": "python",
                "azdata_cell_guid": "d41188e0-c7b1-4f91-a04b-cee4b2f2c5ea"
            },
            "attachments": {}
        },
        {
            "cell_type": "code",
            "source": [
                "!pip install psycopg2\r\n",
                "!pip install pandas"
            ],
            "metadata": {
                "language": "python",
                "azdata_cell_guid": "0cf1c08a-3c0c-40cc-af59-379b3d34432c"
            },
            "outputs": [
                {
                    "output_type": "stream",
                    "name": "stdout",
                    "text": "Requirement already satisfied: psycopg2 in c:\\users\\guilh\\appdata\\local\\programs\\python\\python39\\lib\\site-packages (2.9.9)\n"
                },
                {
                    "output_type": "stream",
                    "name": "stdout",
                    "text": "Requirement already satisfied: pandas in c:\\users\\guilh\\appdata\\local\\programs\\python\\python39\\lib\\site-packages (1.5.3)\nRequirement already satisfied: python-dateutil>=2.8.1 in c:\\users\\guilh\\appdata\\roaming\\python\\python39\\site-packages (from pandas) (2.9.0.post0)\nRequirement already satisfied: pytz>=2020.1 in c:\\users\\guilh\\appdata\\local\\programs\\python\\python39\\lib\\site-packages (from pandas) (2024.1)\nRequirement already satisfied: numpy>=1.20.3 in c:\\users\\guilh\\appdata\\local\\programs\\python\\python39\\lib\\site-packages (from pandas) (1.26.4)\nRequirement already satisfied: six>=1.5 in c:\\users\\guilh\\appdata\\roaming\\python\\python39\\site-packages (from python-dateutil>=2.8.1->pandas) (1.16.0)\n"
                }
            ],
            "execution_count": 2
        },
        {
            "cell_type": "code",
            "source": [
                "!pip install basedosdados"
            ],
            "metadata": {
                "language": "python",
                "azdata_cell_guid": "107f1a8c-58b6-4773-af6d-e061f190789d"
            },
            "outputs": [
                {
                    "output_type": "stream",
                    "name": "stdout",
                    "text": "Requirement already satisfied: basedosdados in c:\\users\\guilh\\appdata\\local\\programs\\python\\python39\\lib\\site-packages (1.6.11)\nRequirement already satisfied: Jinja2==3.0.3 in c:\\users\\guilh\\appdata\\local\\programs\\python\\python39\\lib\\site-packages (from basedosdados) (3.0.3)\nRequirement already satisfied: ckanapi==4.6 in c:\\users\\guilh\\appdata\\local\\programs\\python\\python39\\lib\\site-packages (from basedosdados) (4.6)\nRequirement already satisfied: click==8.0.3 in c:\\users\\guilh\\appdata\\local\\programs\\python\\python39\\lib\\site-packages (from basedosdados) (8.0.3)\nRequirement already satisfied: google-cloud-bigquery==2.30.1 in c:\\users\\guilh\\appdata\\local\\programs\\python\\python39\\lib\\site-packages (from basedosdados) (2.30.1)\nRequirement already satisfied: google-cloud-bigquery-storage==1.1.0 in c:\\users\\guilh\\appdata\\local\\programs\\python\\python39\\lib\\site-packages (from basedosdados) (1.1.0)\nRequirement already satisfied: google-cloud-storage==1.42.3 in c:\\users\\guilh\\appdata\\local\\programs\\python\\python39\\lib\\site-packages (from basedosdados) (1.42.3)\nRequirement already satisfied: importlib-metadata<5.0.0,>=4.11.3 in c:\\users\\guilh\\appdata\\local\\programs\\python\\python39\\lib\\site-packages (from basedosdados) (4.13.0)\nRequirement already satisfied: loguru<0.7.0,>=0.6.0 in c:\\users\\guilh\\appdata\\local\\programs\\python\\python39\\lib\\site-packages (from basedosdados) (0.6.0)\nRequirement already satisfied: pandas<2.0.0,>=1.3.5 in c:\\users\\guilh\\appdata\\local\\programs\\python\\python39\\lib\\site-packages (from basedosdados) (1.5.3)\nRequirement already satisfied: pandas-gbq<0.18.0,>=0.17.4 in c:\\users\\guilh\\appdata\\local\\programs\\python\\python39\\lib\\site-packages (from basedosdados) (0.17.9)\nRequirement already satisfied: pandavro<2.0.0,>=1.6.0 in c:\\users\\guilh\\appdata\\local\\programs\\python\\python39\\lib\\site-packages (from basedosdados) (1.8.0)\nRequirement already satisfied: pyaml==20.4.0 in c:\\users\\guilh\\appdata\\local\\programs\\python\\python39\\lib\\site-packages (from basedosdados) (20.4.0)\nRequirement already satisfied: pyarrow==6.0.0 in c:\\users\\guilh\\appdata\\local\\programs\\python\\python39\\lib\\site-packages (from basedosdados) (6.0.0)\nRequirement already satisfied: ruamel.yaml==0.17.10 in c:\\users\\guilh\\appdata\\local\\programs\\python\\python39\\lib\\site-packages (from basedosdados) (0.17.10)\nRequirement already satisfied: shapely<2.0.0,>=1.6.0 in c:\\users\\guilh\\appdata\\local\\programs\\python\\python39\\lib\\site-packages (from basedosdados) (1.8.5.post1)\nRequirement already satisfied: toml<0.11.0,>=0.10.2 in c:\\users\\guilh\\appdata\\local\\programs\\python\\python39\\lib\\site-packages (from basedosdados) (0.10.2)\nRequirement already satisfied: tomlkit==0.7.0 in c:\\users\\guilh\\appdata\\local\\programs\\python\\python39\\lib\\site-packages (from basedosdados) (0.7.0)\nRequirement already satisfied: tqdm==4.50.2 in c:\\users\\guilh\\appdata\\local\\programs\\python\\python39\\lib\\site-packages (from basedosdados) (4.50.2)\nRequirement already satisfied: setuptools in c:\\users\\guilh\\appdata\\local\\programs\\python\\python39\\lib\\site-packages (from ckanapi==4.6->basedosdados) (58.1.0)\nRequirement already satisfied: docopt in c:\\users\\guilh\\appdata\\local\\programs\\python\\python39\\lib\\site-packages (from ckanapi==4.6->basedosdados) (0.6.2)\nRequirement already satisfied: requests in c:\\users\\guilh\\appdata\\local\\programs\\python\\python39\\lib\\site-packages (from ckanapi==4.6->basedosdados) (2.31.0)\nRequirement already satisfied: python-slugify>=1.0 in c:\\users\\guilh\\appdata\\local\\programs\\python\\python39\\lib\\site-packages (from ckanapi==4.6->basedosdados) (8.0.4)\nRequirement already satisfied: six<2.0,>=1.9 in c:\\users\\guilh\\appdata\\roaming\\python\\python39\\site-packages (from ckanapi==4.6->basedosdados) (1.16.0)\nRequirement already satisfied: colorama in c:\\users\\guilh\\appdata\\local\\programs\\python\\python39\\lib\\site-packages (from click==8.0.3->basedosdados) (0.4.4)\nRequirement already satisfied: grpcio<2.0dev,>=1.38.1 in c:\\users\\guilh\\appdata\\local\\programs\\python\\python39\\lib\\site-packages (from google-cloud-bigquery==2.30.1->basedosdados) (1.63.0)\nRequirement already satisfied: google-api-core<3.0.0dev,>=1.29.0 in c:\\users\\guilh\\appdata\\local\\programs\\python\\python39\\lib\\site-packages (from google-api-core[grpc]<3.0.0dev,>=1.29.0->google-cloud-bigquery==2.30.1->basedosdados) (1.34.1)\nRequirement already satisfied: proto-plus>=1.10.0 in c:\\users\\guilh\\appdata\\local\\programs\\python\\python39\\lib\\site-packages (from google-cloud-bigquery==2.30.1->basedosdados) (1.23.0)\nRequirement already satisfied: google-cloud-core<3.0.0dev,>=1.4.1 in c:\\users\\guilh\\appdata\\local\\programs\\python\\python39\\lib\\site-packages (from google-cloud-bigquery==2.30.1->basedosdados) (2.4.1)\nRequirement already satisfied: google-resumable-media<3.0dev,>=0.6.0 in c:\\users\\guilh\\appdata\\local\\programs\\python\\python39\\lib\\site-packages (from google-cloud-bigquery==2.30.1->basedosdados) (2.7.0)\nRequirement already satisfied: packaging>=14.3 in c:\\users\\guilh\\appdata\\roaming\\python\\python39\\site-packages (from google-cloud-bigquery==2.30.1->basedosdados) (24.0)\nRequirement already satisfied: protobuf>=3.12.0 in c:\\users\\guilh\\appdata\\local\\programs\\python\\python39\\lib\\site-packages (from google-cloud-bigquery==2.30.1->basedosdados) (3.20.3)\nRequirement already satisfied: python-dateutil<3.0dev,>=2.7.2 in c:\\users\\guilh\\appdata\\roaming\\python\\python39\\site-packages (from google-cloud-bigquery==2.30.1->basedosdados) (2.9.0.post0)\nRequirement already satisfied: google-auth<3.0dev,>=1.25.0 in c:\\users\\guilh\\appdata\\local\\programs\\python\\python39\\lib\\site-packages (from google-cloud-storage==1.42.3->basedosdados) (2.29.0)\nRequirement already satisfied: MarkupSafe>=2.0 in c:\\users\\guilh\\appdata\\local\\programs\\python\\python39\\lib\\site-packages (from Jinja2==3.0.3->basedosdados) (2.1.2)\nRequirement already satisfied: PyYAML in c:\\users\\guilh\\appdata\\roaming\\python\\python39\\site-packages (from pyaml==20.4.0->basedosdados) (6.0.1)\nRequirement already satisfied: numpy>=1.16.6 in c:\\users\\guilh\\appdata\\local\\programs\\python\\python39\\lib\\site-packages (from pyarrow==6.0.0->basedosdados) (1.26.4)\nRequirement already satisfied: ruamel.yaml.clib>=0.1.2 in c:\\users\\guilh\\appdata\\local\\programs\\python\\python39\\lib\\site-packages (from ruamel.yaml==0.17.10->basedosdados) (0.2.8)\nRequirement already satisfied: zipp>=0.5 in c:\\users\\guilh\\appdata\\local\\programs\\python\\python39\\lib\\site-packages (from importlib-metadata<5.0.0,>=4.11.3->basedosdados) (3.15.0)\nRequirement already satisfied: win32-setctime>=1.0.0 in c:\\users\\guilh\\appdata\\local\\programs\\python\\python39\\lib\\site-packages (from loguru<0.7.0,>=0.6.0->basedosdados) (1.1.0)\nRequirement already satisfied: pytz>=2020.1 in c:\\users\\guilh\\appdata\\local\\programs\\python\\python39\\lib\\site-packages (from pandas<2.0.0,>=1.3.5->basedosdados) (2024.1)\nRequirement already satisfied: db-dtypes<2.0.0,>=0.3.1 in c:\\users\\guilh\\appdata\\local\\programs\\python\\python39\\lib\\site-packages (from pandas-gbq<0.18.0,>=0.17.4->basedosdados) (1.2.0)\nRequirement already satisfied: pydata-google-auth in c:\\users\\guilh\\appdata\\local\\programs\\python\\python39\\lib\\site-packages (from pandas-gbq<0.18.0,>=0.17.4->basedosdados) (1.8.2)\nRequirement already satisfied: google-auth-oauthlib>=0.0.1 in c:\\users\\guilh\\appdata\\local\\programs\\python\\python39\\lib\\site-packages (from pandas-gbq<0.18.0,>=0.17.4->basedosdados) (1.2.0)\nRequirement already satisfied: fastavro<2.0.0,>=1.5.1 in c:\\users\\guilh\\appdata\\local\\programs\\python\\python39\\lib\\site-packages (from pandavro<2.0.0,>=1.6.0->basedosdados) (1.9.4)\nRequirement already satisfied: googleapis-common-protos<2.0dev,>=1.56.2 in c:\\users\\guilh\\appdata\\local\\programs\\python\\python39\\lib\\site-packages (from google-api-core<3.0.0dev,>=1.29.0->google-api-core[grpc]<3.0.0dev,>=1.29.0->google-cloud-bigquery==2.30.1->basedosdados) (1.63.0)\nRequirement already satisfied: grpcio-status<2.0dev,>=1.33.2 in c:\\users\\guilh\\appdata\\local\\programs\\python\\python39\\lib\\site-packages (from google-api-core[grpc]<3.0.0dev,>=1.29.0->google-cloud-bigquery==2.30.1->basedosdados) (1.48.2)\nRequirement already satisfied: cachetools<6.0,>=2.0.0 in c:\\users\\guilh\\appdata\\local\\programs\\python\\python39\\lib\\site-packages (from google-auth<3.0dev,>=1.25.0->google-cloud-storage==1.42.3->basedosdados) (5.3.3)\nRequirement already satisfied: pyasn1-modules>=0.2.1 in c:\\users\\guilh\\appdata\\local\\programs\\python\\python39\\lib\\site-packages (from google-auth<3.0dev,>=1.25.0->google-cloud-storage==1.42.3->basedosdados) (0.4.0)\nRequirement already satisfied: rsa<5,>=3.1.4 in c:\\users\\guilh\\appdata\\local\\programs\\python\\python39\\lib\\site-packages (from google-auth<3.0dev,>=1.25.0->google-cloud-storage==1.42.3->basedosdados) (4.9)\nRequirement already satisfied: requests-oauthlib>=0.7.0 in c:\\users\\guilh\\appdata\\local\\programs\\python\\python39\\lib\\site-packages (from google-auth-oauthlib>=0.0.1->pandas-gbq<0.18.0,>=0.17.4->basedosdados) (2.0.0)\nRequirement already satisfied: google-crc32c<2.0dev,>=1.0 in c:\\users\\guilh\\appdata\\local\\programs\\python\\python39\\lib\\site-packages (from google-resumable-media<3.0dev,>=0.6.0->google-cloud-bigquery==2.30.1->basedosdados) (1.5.0)\nRequirement already satisfied: text-unidecode>=1.3 in c:\\users\\guilh\\appdata\\local\\programs\\python\\python39\\lib\\site-packages (from python-slugify>=1.0->ckanapi==4.6->basedosdados) (1.3)\nRequirement already satisfied: charset-normalizer<4,>=2 in c:\\users\\guilh\\appdata\\local\\programs\\python\\python39\\lib\\site-packages (from requests->ckanapi==4.6->basedosdados) (3.3.2)\nRequirement already satisfied: idna<4,>=2.5 in c:\\users\\guilh\\appdata\\roaming\\python\\python39\\site-packages (from requests->ckanapi==4.6->basedosdados) (3.7)\nRequirement already satisfied: urllib3<3,>=1.21.1 in c:\\users\\guilh\\appdata\\local\\programs\\python\\python39\\lib\\site-packages (from requests->ckanapi==4.6->basedosdados) (2.2.1)\nRequirement already satisfied: certifi>=2017.4.17 in c:\\users\\guilh\\appdata\\local\\programs\\python\\python39\\lib\\site-packages (from requests->ckanapi==4.6->basedosdados) (2024.2.2)\nRequirement already satisfied: pyasn1<0.7.0,>=0.4.6 in c:\\users\\guilh\\appdata\\local\\programs\\python\\python39\\lib\\site-packages (from pyasn1-modules>=0.2.1->google-auth<3.0dev,>=1.25.0->google-cloud-storage==1.42.3->basedosdados) (0.6.0)\nRequirement already satisfied: oauthlib>=3.0.0 in c:\\users\\guilh\\appdata\\local\\programs\\python\\python39\\lib\\site-packages (from requests-oauthlib>=0.7.0->google-auth-oauthlib>=0.0.1->pandas-gbq<0.18.0,>=0.17.4->basedosdados) (3.2.2)\n"
                }
            ],
            "execution_count": 5
        },
        {
            "cell_type": "markdown",
            "source": [
                "# Importações de bibliotecas"
            ],
            "metadata": {
                "language": "python",
                "azdata_cell_guid": "9fddb5ed-8d20-4247-859d-7960e2ef6eea"
            },
            "attachments": {}
        },
        {
            "cell_type": "code",
            "source": [
                "import io\r\n",
                "import psycopg2\r\n",
                "import pandas as pd\r\n",
                "import os"
            ],
            "metadata": {
                "azdata_cell_guid": "aedf02cc-7070-4a67-a9c7-bdecfa55f173",
                "language": "python"
            },
            "outputs": [],
            "execution_count": 32
        },
        {
            "cell_type": "markdown",
            "source": [
                "# Função para carregar dados"
            ],
            "metadata": {
                "language": "python",
                "azdata_cell_guid": "f9141520-5457-4aeb-9eb9-e4379102ee1a"
            },
            "attachments": {}
        },
        {
            "cell_type": "code",
            "source": [
                "def carregar_dados(conn, df, tabela, colunas):\r\n",
                "    cur = conn.cursor()\r\n",
                "    output = io.StringIO()\r\n",
                "    df.to_csv(output, sep='\\t', header = False, index = False)\r\n",
                "    output.seek(0)\r\n",
                "    try:\r\n",
                "        cur.copy_from(output, tabela, null = \"\", columns = colunas)\r\n",
                "        conn.commit()\r\n",
                "    except Exception as e:\r\n",
                "        print(e)\r\n",
                "        conn.rollback()"
            ],
            "metadata": {
                "language": "python",
                "azdata_cell_guid": "20104f56-ded4-4087-9de2-14c758f6135b"
            },
            "outputs": [],
            "execution_count": 4
        },
        {
            "cell_type": "markdown",
            "source": [
                "# Aqusição de dados do IBGE PNAD COVID 19"
            ],
            "metadata": {
                "language": "python",
                "azdata_cell_guid": "1d936feb-6543-4602-bd7a-6fe43ebdcb55"
            },
            "attachments": {}
        },
        {
            "cell_type": "code",
            "source": [
                "import basedosdados as bd\r\n",
                "\r\n",
                "query_dados = \"\"\"\r\n",
                "SELECT *\r\n",
                "FROM `basedosdados.br_ibge_pnad_covid.microdados`\r\n",
                "WHERE ano = 2020\r\n",
                "and mes >=09\r\n",
                "and mes <=11\r\n",
                "\"\"\"\r\n",
                "\r\n",
                "df_dados = bd.read_sql(query_dados, billing_project_id=\"inner-wares-423016-p4\")\r\n",
                "\r\n",
                "\r\n",
                "query_dic = \"\"\"\r\n",
                "SELECT *\r\n",
                "FROM `basedosdados.br_ibge_pnad_covid.dicionario`\r\n",
                "\"\"\"\r\n",
                "\r\n",
                "df_dic = bd.read_sql(query_dic, billing_project_id=\"inner-wares-423016-p4\")"
            ],
            "metadata": {
                "language": "python",
                "azdata_cell_guid": "6444746b-9902-4a8f-ba8a-44e87f9b2a4e"
            },
            "outputs": [
                {
                    "output_type": "stream",
                    "name": "stderr",
                    "text": "\rDownloading:   0%|          | 0/1149197 [00:00<?, ?rows/s]"
                },
                {
                    "output_type": "stream",
                    "name": "stderr",
                    "text": "\rDownloading:   1%|▏         | 14932/1149197 [00:11<15:06, 1251.32rows/s]"
                },
                {
                    "output_type": "stream",
                    "name": "stderr",
                    "text": "\rDownloading:   3%|▎         | 29863/1149197 [00:24<15:17, 1220.41rows/s]"
                },
                {
                    "output_type": "stream",
                    "name": "stderr",
                    "text": "\rDownloading:   4%|▍         | 44790/1149197 [00:36<14:55, 1233.13rows/s]"
                },
                {
                    "output_type": "stream",
                    "name": "stderr",
                    "text": "\rDownloading:   5%|▌         | 59747/1149197 [00:48<14:29, 1252.71rows/s]"
                },
                {
                    "output_type": "stream",
                    "name": "stderr",
                    "text": "\rDownloading:   5%|▌         | 59747/1149197 [01:00<14:29, 1252.71rows/s]"
                },
                {
                    "output_type": "stream",
                    "name": "stderr",
                    "text": "\rDownloading:   6%|▋         | 74671/1149197 [01:00<14:30, 1234.08rows/s]"
                },
                {
                    "output_type": "stream",
                    "name": "stderr",
                    "text": "\rDownloading:   8%|▊         | 89607/1149197 [01:12<14:15, 1239.17rows/s]"
                },
                {
                    "output_type": "stream",
                    "name": "stderr",
                    "text": "\rDownloading:   9%|▉         | 104539/1149197 [01:25<14:09, 1229.29rows/s]"
                },
                {
                    "output_type": "stream",
                    "name": "stderr",
                    "text": "\rDownloading:  10%|█         | 119462/1149197 [01:36<13:53, 1235.74rows/s]"
                },
                {
                    "output_type": "stream",
                    "name": "stderr",
                    "text": "\rDownloading:  12%|█▏        | 134373/1149197 [01:48<13:37, 1241.21rows/s]"
                },
                {
                    "output_type": "stream",
                    "name": "stderr",
                    "text": "\rDownloading:  12%|█▏        | 134373/1149197 [02:00<13:37, 1241.21rows/s]"
                },
                {
                    "output_type": "stream",
                    "name": "stderr",
                    "text": "\rDownloading:  13%|█▎        | 149285/1149197 [02:01<13:44, 1212.88rows/s]"
                },
                {
                    "output_type": "stream",
                    "name": "stderr",
                    "text": "\rDownloading:  14%|█▍        | 164216/1149197 [02:13<13:23, 1225.59rows/s]"
                },
                {
                    "output_type": "stream",
                    "name": "stderr",
                    "text": "\rDownloading:  16%|█▌        | 179156/1149197 [02:24<12:41, 1273.03rows/s]"
                },
                {
                    "output_type": "stream",
                    "name": "stderr",
                    "text": "\rDownloading:  17%|█▋        | 194069/1149197 [02:36<12:34, 1266.17rows/s]"
                },
                {
                    "output_type": "stream",
                    "name": "stderr",
                    "text": "\rDownloading:  18%|█▊        | 209032/1149197 [02:48<12:26, 1260.12rows/s]"
                },
                {
                    "output_type": "stream",
                    "name": "stderr",
                    "text": "\rDownloading:  19%|█▉        | 223953/1149197 [02:59<12:01, 1283.01rows/s]"
                },
                {
                    "output_type": "stream",
                    "name": "stderr",
                    "text": "\rDownloading:  19%|█▉        | 223953/1149197 [03:10<12:01, 1283.01rows/s]"
                },
                {
                    "output_type": "stream",
                    "name": "stderr",
                    "text": "\rDownloading:  21%|██        | 238895/1149197 [03:12<12:08, 1249.55rows/s]"
                },
                {
                    "output_type": "stream",
                    "name": "stderr",
                    "text": "\rDownloading:  22%|██▏       | 253819/1149197 [03:23<11:53, 1254.33rows/s]"
                },
                {
                    "output_type": "stream",
                    "name": "stderr",
                    "text": "\rDownloading:  23%|██▎       | 268746/1149197 [03:35<11:42, 1253.75rows/s]"
                },
                {
                    "output_type": "stream",
                    "name": "stderr",
                    "text": "\rDownloading:  25%|██▍       | 283650/1149197 [03:47<11:27, 1258.39rows/s]"
                },
                {
                    "output_type": "stream",
                    "name": "stderr",
                    "text": "\rDownloading:  26%|██▌       | 298567/1149197 [03:59<11:22, 1246.09rows/s]"
                },
                {
                    "output_type": "stream",
                    "name": "stderr",
                    "text": "\rDownloading:  27%|██▋       | 313505/1149197 [04:11<11:01, 1263.27rows/s]"
                },
                {
                    "output_type": "stream",
                    "name": "stderr",
                    "text": "\rDownloading:  27%|██▋       | 313505/1149197 [04:21<11:01, 1263.27rows/s]"
                },
                {
                    "output_type": "stream",
                    "name": "stderr",
                    "text": "\rDownloading:  29%|██▊       | 328438/1149197 [04:22<10:45, 1270.66rows/s]"
                },
                {
                    "output_type": "stream",
                    "name": "stderr",
                    "text": "\rDownloading:  30%|██▉       | 343370/1149197 [04:34<10:29, 1279.74rows/s]"
                },
                {
                    "output_type": "stream",
                    "name": "stderr",
                    "text": "\rDownloading:  31%|███       | 358308/1149197 [04:47<10:37, 1239.65rows/s]"
                },
                {
                    "output_type": "stream",
                    "name": "stderr",
                    "text": "\rDownloading:  32%|███▏      | 373234/1149197 [04:58<10:10, 1270.08rows/s]"
                },
                {
                    "output_type": "stream",
                    "name": "stderr",
                    "text": "\rDownloading:  34%|███▍      | 388173/1149197 [05:09<09:44, 1302.28rows/s]"
                },
                {
                    "output_type": "stream",
                    "name": "stderr",
                    "text": "\rDownloading:  34%|███▍      | 388173/1149197 [05:21<09:44, 1302.28rows/s]"
                },
                {
                    "output_type": "stream",
                    "name": "stderr",
                    "text": "\rDownloading:  35%|███▌      | 403095/1149197 [05:21<09:51, 1261.23rows/s]"
                },
                {
                    "output_type": "stream",
                    "name": "stderr",
                    "text": "\rDownloading:  36%|███▋      | 418012/1149197 [05:33<09:41, 1258.11rows/s]"
                },
                {
                    "output_type": "stream",
                    "name": "stderr",
                    "text": "\rDownloading:  38%|███▊      | 432910/1149197 [05:45<09:34, 1247.09rows/s]"
                },
                {
                    "output_type": "stream",
                    "name": "stderr",
                    "text": "\rDownloading:  39%|███▉      | 447846/1149197 [05:57<09:14, 1264.09rows/s]"
                },
                {
                    "output_type": "stream",
                    "name": "stderr",
                    "text": "\rDownloading:  40%|████      | 462778/1149197 [06:09<09:02, 1264.17rows/s]"
                },
                {
                    "output_type": "stream",
                    "name": "stderr",
                    "text": "\rDownloading:  42%|████▏     | 477697/1149197 [06:20<08:48, 1270.06rows/s]"
                },
                {
                    "output_type": "stream",
                    "name": "stderr",
                    "text": "\rDownloading:  42%|████▏     | 477697/1149197 [06:31<08:48, 1270.06rows/s]"
                },
                {
                    "output_type": "stream",
                    "name": "stderr",
                    "text": "\rDownloading:  43%|████▎     | 492654/1149197 [06:32<08:31, 1283.44rows/s]"
                },
                {
                    "output_type": "stream",
                    "name": "stderr",
                    "text": "\rDownloading:  44%|████▍     | 507574/1149197 [06:44<08:30, 1257.38rows/s]"
                },
                {
                    "output_type": "stream",
                    "name": "stderr",
                    "text": "\rDownloading:  45%|████▌     | 522511/1149197 [06:57<08:28, 1233.02rows/s]"
                },
                {
                    "output_type": "stream",
                    "name": "stderr",
                    "text": "\rDownloading:  47%|████▋     | 537440/1149197 [07:09<08:19, 1224.36rows/s]"
                },
                {
                    "output_type": "stream",
                    "name": "stderr",
                    "text": "\rDownloading:  47%|████▋     | 537440/1149197 [07:21<08:19, 1224.36rows/s]"
                },
                {
                    "output_type": "stream",
                    "name": "stderr",
                    "text": "\rDownloading:  48%|████▊     | 552364/1149197 [07:22<08:17, 1199.28rows/s]"
                },
                {
                    "output_type": "stream",
                    "name": "stderr",
                    "text": "\rDownloading:  49%|████▉     | 567276/1149197 [07:34<08:02, 1206.04rows/s]"
                },
                {
                    "output_type": "stream",
                    "name": "stderr",
                    "text": "\rDownloading:  51%|█████     | 582188/1149197 [07:47<07:52, 1199.35rows/s]"
                },
                {
                    "output_type": "stream",
                    "name": "stderr",
                    "text": "\rDownloading:  52%|█████▏    | 597121/1149197 [07:58<07:24, 1240.81rows/s]"
                },
                {
                    "output_type": "stream",
                    "name": "stderr",
                    "text": "\rDownloading:  53%|█████▎    | 612060/1149197 [08:10<07:15, 1233.83rows/s]"
                },
                {
                    "output_type": "stream",
                    "name": "stderr",
                    "text": "\rDownloading:  53%|█████▎    | 612060/1149197 [08:21<07:15, 1233.83rows/s]"
                },
                {
                    "output_type": "stream",
                    "name": "stderr",
                    "text": "\rDownloading:  55%|█████▍    | 626979/1149197 [08:22<06:58, 1247.73rows/s]"
                },
                {
                    "output_type": "stream",
                    "name": "stderr",
                    "text": "\rDownloading:  56%|█████▌    | 641938/1149197 [08:34<06:44, 1254.41rows/s]"
                },
                {
                    "output_type": "stream",
                    "name": "stderr",
                    "text": "\rDownloading:  57%|█████▋    | 656862/1149197 [08:46<06:38, 1235.75rows/s]"
                },
                {
                    "output_type": "stream",
                    "name": "stderr",
                    "text": "\rDownloading:  57%|█████▋    | 656862/1149197 [09:01<06:38, 1235.75rows/s]"
                },
                {
                    "output_type": "stream",
                    "name": "stderr",
                    "text": "\rDownloading:  58%|█████▊    | 671802/1149197 [09:03<07:06, 1118.11rows/s]"
                },
                {
                    "output_type": "stream",
                    "name": "stderr",
                    "text": "\rDownloading:  60%|█████▉    | 686725/1149197 [09:13<06:29, 1187.77rows/s]"
                },
                {
                    "output_type": "stream",
                    "name": "stderr",
                    "text": "\rDownloading:  61%|██████    | 701654/1149197 [09:25<06:13, 1198.52rows/s]"
                },
                {
                    "output_type": "stream",
                    "name": "stderr",
                    "text": "\rDownloading:  62%|██████▏   | 716556/1149197 [09:37<05:51, 1231.68rows/s]"
                },
                {
                    "output_type": "stream",
                    "name": "stderr",
                    "text": "\rDownloading:  64%|██████▎   | 731482/1149197 [09:48<05:29, 1266.57rows/s]"
                },
                {
                    "output_type": "stream",
                    "name": "stderr",
                    "text": "\rDownloading:  65%|██████▍   | 746418/1149197 [09:58<05:09, 1302.90rows/s]"
                },
                {
                    "output_type": "stream",
                    "name": "stderr",
                    "text": "\rDownloading:  66%|██████▋   | 761349/1149197 [10:10<04:55, 1312.93rows/s]"
                },
                {
                    "output_type": "stream",
                    "name": "stderr",
                    "text": "\rDownloading:  66%|██████▋   | 761349/1149197 [10:22<04:55, 1312.93rows/s]"
                },
                {
                    "output_type": "stream",
                    "name": "stderr",
                    "text": "\rDownloading:  68%|██████▊   | 776290/1149197 [10:22<04:50, 1285.18rows/s]"
                },
                {
                    "output_type": "stream",
                    "name": "stderr",
                    "text": "\rDownloading:  69%|██████▉   | 791224/1149197 [10:34<04:40, 1276.32rows/s]"
                },
                {
                    "output_type": "stream",
                    "name": "stderr",
                    "text": "\rDownloading:  70%|███████   | 806158/1149197 [10:46<04:32, 1259.39rows/s]"
                },
                {
                    "output_type": "stream",
                    "name": "stderr",
                    "text": "\rDownloading:  71%|███████▏  | 821093/1149197 [10:58<04:22, 1248.46rows/s]"
                },
                {
                    "output_type": "stream",
                    "name": "stderr",
                    "text": "\rDownloading:  71%|███████▏  | 821093/1149197 [11:12<04:22, 1248.46rows/s]"
                },
                {
                    "output_type": "stream",
                    "name": "stderr",
                    "text": "\rDownloading:  73%|███████▎  | 836014/1149197 [11:15<04:42, 1107.64rows/s]"
                },
                {
                    "output_type": "stream",
                    "name": "stderr",
                    "text": "\rDownloading:  74%|███████▍  | 850936/1149197 [11:27<04:19, 1147.60rows/s]"
                },
                {
                    "output_type": "stream",
                    "name": "stderr",
                    "text": "\rDownloading:  74%|███████▍  | 850936/1149197 [11:42<04:19, 1147.60rows/s]"
                },
                {
                    "output_type": "stream",
                    "name": "stderr",
                    "text": "\rDownloading:  75%|███████▌  | 865843/1149197 [11:44<04:29, 1052.98rows/s]"
                },
                {
                    "output_type": "stream",
                    "name": "stderr",
                    "text": "\rDownloading:  77%|███████▋  | 880777/1149197 [12:01<04:32, 985.20rows/s] "
                },
                {
                    "output_type": "stream",
                    "name": "stderr",
                    "text": "\rDownloading:  77%|███████▋  | 880777/1149197 [12:12<04:32, 985.20rows/s]"
                },
                {
                    "output_type": "stream",
                    "name": "stderr",
                    "text": "\rDownloading:  78%|███████▊  | 895711/1149197 [12:13<03:59, 1057.14rows/s]"
                },
                {
                    "output_type": "stream",
                    "name": "stderr",
                    "text": "\rDownloading:  79%|███████▉  | 910628/1149197 [12:25<03:36, 1102.56rows/s]"
                },
                {
                    "output_type": "stream",
                    "name": "stderr",
                    "text": "\rDownloading:  81%|████████  | 925589/1149197 [12:38<03:18, 1127.20rows/s]"
                },
                {
                    "output_type": "stream",
                    "name": "stderr",
                    "text": "\rDownloading:  82%|████████▏ | 940507/1149197 [12:50<03:02, 1143.68rows/s]"
                },
                {
                    "output_type": "stream",
                    "name": "stderr",
                    "text": "\rDownloading:  82%|████████▏ | 940507/1149197 [13:02<03:02, 1143.68rows/s]"
                },
                {
                    "output_type": "stream",
                    "name": "stderr",
                    "text": "\rDownloading:  83%|████████▎ | 955445/1149197 [13:02<02:44, 1177.93rows/s]"
                },
                {
                    "output_type": "stream",
                    "name": "stderr",
                    "text": "\rDownloading:  83%|████████▎ | 955445/1149197 [13:12<02:44, 1177.93rows/s]"
                },
                {
                    "output_type": "stream",
                    "name": "stderr",
                    "text": "\rDownloading:  84%|████████▍ | 970372/1149197 [13:15<02:31, 1182.02rows/s]"
                },
                {
                    "output_type": "stream",
                    "name": "stderr",
                    "text": "\rDownloading:  86%|████████▌ | 985299/1149197 [13:27<02:18, 1184.39rows/s]"
                },
                {
                    "output_type": "stream",
                    "name": "stderr",
                    "text": "\rDownloading:  86%|████████▌ | 985299/1149197 [13:42<02:18, 1184.39rows/s]"
                },
                {
                    "output_type": "stream",
                    "name": "stderr",
                    "text": "\rDownloading:  87%|████████▋ | 1000203/1149197 [13:43<02:16, 1091.85rows/s]"
                },
                {
                    "output_type": "stream",
                    "name": "stderr",
                    "text": "\rDownloading:  88%|████████▊ | 1015119/1149197 [13:55<01:56, 1148.87rows/s]"
                },
                {
                    "output_type": "stream",
                    "name": "stderr",
                    "text": "\rDownloading:  90%|████████▉ | 1030056/1149197 [14:07<01:42, 1164.10rows/s]"
                },
                {
                    "output_type": "stream",
                    "name": "stderr",
                    "text": "\rDownloading:  91%|█████████ | 1044992/1149197 [14:19<01:28, 1182.92rows/s]"
                },
                {
                    "output_type": "stream",
                    "name": "stderr",
                    "text": "\rDownloading:  92%|█████████▏| 1059922/1149197 [14:32<01:15, 1180.17rows/s]"
                },
                {
                    "output_type": "stream",
                    "name": "stderr",
                    "text": "\rDownloading:  92%|█████████▏| 1059922/1149197 [14:43<01:15, 1180.17rows/s]"
                },
                {
                    "output_type": "stream",
                    "name": "stderr",
                    "text": "\rDownloading:  94%|█████████▎| 1074869/1149197 [14:44<01:01, 1201.78rows/s]"
                },
                {
                    "output_type": "stream",
                    "name": "stderr",
                    "text": "\rDownloading:  95%|█████████▍| 1089787/1149197 [14:57<00:49, 1195.49rows/s]"
                },
                {
                    "output_type": "stream",
                    "name": "stderr",
                    "text": "\rDownloading:  96%|█████████▌| 1104729/1149197 [15:09<00:36, 1210.75rows/s]"
                },
                {
                    "output_type": "stream",
                    "name": "stderr",
                    "text": "\rDownloading:  97%|█████████▋| 1119642/1149197 [15:21<00:24, 1209.64rows/s]"
                },
                {
                    "output_type": "stream",
                    "name": "stderr",
                    "text": "\rDownloading:  99%|█████████▊| 1134572/1149197 [15:33<00:11, 1232.10rows/s]"
                },
                {
                    "output_type": "stream",
                    "name": "stderr",
                    "text": "\rDownloading:  99%|█████████▊| 1134572/1149197 [15:43<00:11, 1232.10rows/s]"
                },
                {
                    "output_type": "stream",
                    "name": "stderr",
                    "text": "\rDownloading: 100%|██████████| 1149197/1149197 [15:46<00:00, 1180.11rows/s]"
                },
                {
                    "output_type": "stream",
                    "name": "stderr",
                    "text": "\rDownloading: 100%|██████████| 1149197/1149197 [15:46<00:00, 1213.62rows/s]"
                },
                {
                    "output_type": "stream",
                    "name": "stderr",
                    "text": "\n"
                },
                {
                    "output_type": "stream",
                    "name": "stderr",
                    "text": "\rDownloading:   0%|          | 0/554 [00:00<?, ?rows/s]"
                },
                {
                    "output_type": "stream",
                    "name": "stderr",
                    "text": "\rDownloading: 100%|██████████| 554/554 [00:00<00:00, 2058.74rows/s]"
                },
                {
                    "output_type": "stream",
                    "name": "stderr",
                    "text": "\rDownloading: 100%|██████████| 554/554 [00:00<00:00, 2050.83rows/s]"
                },
                {
                    "output_type": "stream",
                    "name": "stderr",
                    "text": "\n"
                }
            ],
            "execution_count": 6
        },
        {
            "cell_type": "code",
            "source": [
                "df_dados.info()"
            ],
            "metadata": {
                "azdata_cell_guid": "70780f11-369f-4d34-a161-38b771f6c4bc",
                "language": "python"
            },
            "outputs": [
                {
                    "output_type": "stream",
                    "name": "stdout",
                    "text": "<class 'pandas.core.frame.DataFrame'>\nRangeIndex: 1149197 entries, 0 to 1149196\nColumns: 148 entries, ano to f006\ndtypes: Int64(18), float64(14), object(116)\nmemory usage: 1.3+ GB\n"
                }
            ],
            "execution_count": 7
        },
        {
            "cell_type": "code",
            "source": [
                "df_dados.columns.to_list()"
            ],
            "metadata": {
                "language": "python",
                "azdata_cell_guid": "93fcd775-a5d5-4154-847e-0d23206f48c0"
            },
            "outputs": [
                {
                    "output_type": "execute_result",
                    "execution_count": 10,
                    "data": {
                        "text/plain": "['ano',\n 'mes',\n 'semana',\n 'sigla_uf',\n 'capital',\n 'rm_ride',\n 'estrato',\n 'upa',\n 'v1008',\n 'v1016',\n 'v1022',\n 'v1023',\n 'v1030',\n 'v1031',\n 'v1032',\n 'posest',\n 'a001',\n 'a001a',\n 'a001b1',\n 'a001b2',\n 'a001b3',\n 'a002',\n 'a003',\n 'a004',\n 'a005',\n 'a006',\n 'a006a',\n 'a006b',\n 'a007',\n 'a007a',\n 'a008',\n 'a009',\n 'b0011',\n 'b0012',\n 'b0013',\n 'b0014',\n 'b0015',\n 'b0016',\n 'b0017',\n 'b0018',\n 'b0019',\n 'b00110',\n 'b00111',\n 'b00112',\n 'b00113',\n 'b002',\n 'b0031',\n 'b0032',\n 'b0033',\n 'b0034',\n 'b0035',\n 'b0036',\n 'b0037',\n 'b0041',\n 'b0042',\n 'b0043',\n 'b0044',\n 'b0045',\n 'b0046',\n 'b005',\n 'b006',\n 'b007',\n 'b008',\n 'b009a',\n 'b009b',\n 'b009c',\n 'b009d',\n 'b009e',\n 'b009f',\n 'b0101',\n 'b0102',\n 'b0103',\n 'b0104',\n 'b0105',\n 'b0106',\n 'b011',\n 'c001',\n 'c002',\n 'c003',\n 'c004',\n 'c005',\n 'c0051',\n 'c0052',\n 'c0053',\n 'c006',\n 'c007',\n 'c007a',\n 'c007b',\n 'c007c',\n 'c007d',\n 'c007e',\n 'c007e1',\n 'c007e2',\n 'c007f',\n 'c008',\n 'c009',\n 'c009a',\n 'c010',\n 'c0101',\n 'c01011',\n 'c01012',\n 'c0102',\n 'c01021',\n 'c01022',\n 'c0103',\n 'c0104',\n 'c011a',\n 'c011a1',\n 'c011a11',\n 'c011a12',\n 'c011a2',\n 'c011a21',\n 'c011a22',\n 'c012',\n 'c013',\n 'c014',\n 'c015',\n 'c016',\n 'c017a',\n 'd0011',\n 'd0013',\n 'd0021',\n 'd0023',\n 'd0031',\n 'd0033',\n 'd0041',\n 'd0043',\n 'd0051',\n 'd0053',\n 'd0061',\n 'd0063',\n 'd0071',\n 'd0073',\n 'e001',\n 'e0021',\n 'e0022',\n 'e0023',\n 'e0024',\n 'f001',\n 'f0021',\n 'f0022',\n 'f002a1',\n 'f002a2',\n 'f002a3',\n 'f002a4',\n 'f002a5',\n 'f0061',\n 'f006']"
                    },
                    "metadata": {}
                }
            ],
            "execution_count": 10
        },
        {
            "cell_type": "code",
            "source": [
                "df_dic.columns.to_list()"
            ],
            "metadata": {
                "language": "python",
                "azdata_cell_guid": "c85ee50f-7ba5-4ae5-98a3-6725d8fffadc"
            },
            "outputs": [
                {
                    "output_type": "execute_result",
                    "execution_count": 15,
                    "data": {
                        "text/plain": "['id_tabela', 'nome_coluna', 'chave', 'cobertura_temporal', 'valor']"
                    },
                    "metadata": {}
                }
            ],
            "execution_count": 15
        },
        {
            "cell_type": "markdown",
            "source": [
                "# Conexão com banco de dados e carga de dados"
            ],
            "metadata": {
                "language": "python",
                "azdata_cell_guid": "c0de25e5-5eca-498e-9635-fa07d7125f18"
            },
            "attachments": {}
        },
        {
            "cell_type": "code",
            "source": [
                "file_dir = os.path.dirname(os.path.realpath('__file__'))\r\n",
                "file_name = os.path.join(file_dir, 'authentication\\\\account.txt')"
            ],
            "metadata": {
                "language": "python",
                "azdata_cell_guid": "e628079e-524d-4b96-bdf8-9069669a1fbe",
                "tags": []
            },
            "outputs": [
                {
                    "output_type": "stream",
                    "name": "stdout",
                    "text": "C:\\Users\\guilh\\Desktop\\TC3_3DTAT\\authentication\\account.txt\n"
                }
            ],
            "execution_count": 38
        },
        {
            "cell_type": "code",
            "source": [
                "f=open(file_name,\"r\")\r\n",
                "lines=f.readlines()\r\n",
                "host=lines[0].strip()\r\n",
                "port=lines[1].strip()\r\n",
                "database=lines[2].strip()\r\n",
                "username=lines[3].strip()\r\n",
                "userpassword=lines[4].strip()\r\n",
                "f.close()"
            ],
            "metadata": {
                "language": "python",
                "azdata_cell_guid": "8e65ed6f-4e43-4322-8549-d3c9959681ce",
                "tags": []
            },
            "outputs": [],
            "execution_count": 66
        },
        {
            "cell_type": "code",
            "source": [
                "conn = psycopg2.connect(host=host, port=port, database=database, user=username, password=userpassword)"
            ],
            "metadata": {
                "language": "python",
                "azdata_cell_guid": "7d8da83c-dc8c-4030-8191-bf1cd92d7275"
            },
            "outputs": [],
            "execution_count": 68
        },
        {
            "cell_type": "code",
            "source": [
                "carregar_dados(conn, df_dados, 'br_ibge_pnad_covid_microdados', ('ano', 'mes', 'semana', 'sigla_uf', 'capital', 'rm_ride', 'estrato',\r\n",
                "'upa', 'v1008', 'v1016', 'v1022', 'v1023', 'v1030', 'v1031', 'v1032', 'posest', 'a001', 'a001a', 'a001b1', 'a001b2', 'a001b3', 'a002',\r\n",
                "'a003', 'a004', 'a005', 'a006', 'a006a', 'a006b', 'a007', 'a007a', 'a008', 'a009', 'b0011', 'b0012', 'b0013', 'b0014', 'b0015', 'b0016',\r\n",
                "'b0017', 'b0018', 'b0019', 'b00110', 'b00111', 'b00112', 'b00113', 'b002', 'b0031', 'b0032', 'b0033', 'b0034', 'b0035', 'b0036', 'b0037',\r\n",
                "'b0041', 'b0042', 'b0043', 'b0044', 'b0045', 'b0046', 'b005', 'b006', 'b007', 'b008', 'b009a', 'b009b', 'b009c', 'b009d', 'b009e', 'b009f',\r\n",
                "'b0101', 'b0102', 'b0103', 'b0104', 'b0105', 'b0106', 'b011', 'c001', 'c002', 'c003', 'c004', 'c005', 'c0051', 'c0052', 'c0053', 'c006', 'c007',\r\n",
                "'c007a', 'c007b', 'c007c', 'c007d', 'c007e', 'c007e1', 'c007e2', 'c007f', 'c008', 'c009', 'c009a', 'c010', 'c0101', 'c01011', 'c01012', 'c0102',\r\n",
                "'c01021', 'c01022', 'c0103', 'c0104', 'c011a', 'c011a1', 'c011a11', 'c011a12', 'c011a2', 'c011a21', 'c011a22', 'c012', 'c013', 'c014', 'c015',\r\n",
                "'c016', 'c017a', 'd0011', 'd0013', 'd0021', 'd0023', 'd0031', 'd0033', 'd0041', 'd0043', 'd0051', 'd0053', 'd0061', 'd0063', 'd0071', 'd0073',\r\n",
                "'e001', 'e0021', 'e0022', 'e0023', 'e0024', 'f001', 'f0021', 'f0022', 'f002a1', 'f002a2', 'f002a3', 'f002a4', 'f002a5', 'f0061', 'f006'))\r\n",
                ""
            ],
            "metadata": {
                "language": "python",
                "azdata_cell_guid": "219fd97f-ef03-450e-a5f6-521bf31352ab"
            },
            "outputs": [],
            "execution_count": 12
        },
        {
            "cell_type": "code",
            "source": [
                "carregar_dados(conn, df_dic, 'br_ibge_pnad_covid_dicionario', ('id_tabela', 'nome_coluna', 'chave', 'cobertura_temporal', 'valor'))"
            ],
            "metadata": {
                "azdata_cell_guid": "9a2217e4-eb73-4fd5-816c-54b2deec2284",
                "language": "python"
            },
            "outputs": [],
            "execution_count": null
        }
    ]
}